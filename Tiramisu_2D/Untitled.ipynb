{
 "cells": [
  {
   "cell_type": "code",
   "execution_count": 1,
   "metadata": {},
   "outputs": [],
   "source": [
    "import os\n",
    "import shutil\n",
    "import pandas as pd\n",
    "import numpy as np"
   ]
  },
  {
   "cell_type": "code",
   "execution_count": 2,
   "metadata": {},
   "outputs": [],
   "source": [
    "csv_path='/media/brats/MyPassport/Avinash/Tiramisu_2D/train_valid_test_split.csv'\n",
    "csv= pd.read_csv(csv_path)\n",
    "patient_ids= np.array(csv[csv['Testing']==True]['Paths'])"
   ]
  },
  {
   "cell_type": "code",
   "execution_count": 4,
   "metadata": {},
   "outputs": [],
   "source": [
    "path='/media/brats/MyPassport/Avinash/Kaminstas_2018/MICCAI_BraTS_2018_Data_Training'\n",
    "outpath='/media/brats/MyPassport/Avinash/Kaminstas_2018/MICCAI_BraTS_2018_Data_Training/test'\n",
    "for i in range(len(patient_ids)):\n",
    "    r= patient_ids[i].split('/')\n",
    "    patient_id= r[-1]\n",
    "    grade = r[-2].split('_')[0]\n",
    "    src= path+'/'+grade+'/'+patient_id\n",
    "    dstn = outpath+'/'+patient_id\n",
    "    shutil.copytree(src,dstn)"
   ]
  },
  {
   "cell_type": "code",
   "execution_count": null,
   "metadata": {},
   "outputs": [],
   "source": []
  }
 ],
 "metadata": {
  "kernelspec": {
   "display_name": "Python 3",
   "language": "python",
   "name": "python3"
  },
  "language_info": {
   "codemirror_mode": {
    "name": "ipython",
    "version": 3
   },
   "file_extension": ".py",
   "mimetype": "text/x-python",
   "name": "python",
   "nbconvert_exporter": "python",
   "pygments_lexer": "ipython3",
   "version": "3.6.4"
  }
 },
 "nbformat": 4,
 "nbformat_minor": 2
}
