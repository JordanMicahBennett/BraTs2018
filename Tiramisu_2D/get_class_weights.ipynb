{
 "cells": [
  {
   "cell_type": "code",
   "execution_count": 1,
   "metadata": {},
   "outputs": [
    {
     "name": "stderr",
     "output_type": "stream",
     "text": [
      "/home/brats/anaconda3/lib/python3.6/site-packages/h5py/__init__.py:36: FutureWarning: Conversion of the second argument of issubdtype from `float` to `np.floating` is deprecated. In future, it will be treated as `np.float64 == np.dtype(float).type`.\n",
      "  from ._conv import register_converters as _register_converters\n"
     ]
    }
   ],
   "source": [
    "import os\n",
    "from tqdm import tqdm\n",
    "import h5py\n",
    "import numpy as np"
   ]
  },
  {
   "cell_type": "code",
   "execution_count": 2,
   "metadata": {},
   "outputs": [],
   "source": [
    "path='/media/brats/MyPassport/Avinash/Kaminstas_2018/MICCAI_BraTS_2018_Data_Training/hdf5_data/train_set'\n",
    "files = os.listdir(path)"
   ]
  },
  {
   "cell_type": "code",
   "execution_count": 3,
   "metadata": {},
   "outputs": [
    {
     "name": "stderr",
     "output_type": "stream",
     "text": [
      "100%|██████████| 17024/17024 [00:17<00:00, 965.68it/s]\n"
     ]
    }
   ],
   "source": [
    "brain=[]\n",
    "nec=[]\n",
    "edema=[]\n",
    "et=[]\n",
    "weights=np.zeros(4)\n",
    "for f in tqdm(files):\n",
    "    data = h5py.File(path+'/'+f)\n",
    "    label= data['label'][:]\n",
    "    label = np.uint8(label)\n",
    "    label[label==4]=3\n",
    "    for i in range (4):\n",
    "        weights[i] += np.sum(label==i)\n",
    "    \n",
    "    "
   ]
  },
  {
   "cell_type": "code",
   "execution_count": 5,
   "metadata": {},
   "outputs": [],
   "source": [
    "w=np.median(weights)/weights"
   ]
  },
  {
   "cell_type": "code",
   "execution_count": 6,
   "metadata": {},
   "outputs": [
    {
     "data": {
      "text/plain": [
       "array([0.00887307, 2.64364268, 0.69395684, 1.78894656])"
      ]
     },
     "execution_count": 6,
     "metadata": {},
     "output_type": "execute_result"
    }
   ],
   "source": [
    "w"
   ]
  },
  {
   "cell_type": "code",
   "execution_count": 7,
   "metadata": {},
   "outputs": [
    {
     "name": "stderr",
     "output_type": "stream",
     "text": [
      "100%|██████████| 4901/4901 [00:05<00:00, 877.29it/s]\n"
     ]
    },
    {
     "data": {
      "text/plain": [
       "array([0.00914027, 1.88155719, 0.68095523, 2.79403371])"
      ]
     },
     "execution_count": 7,
     "metadata": {},
     "output_type": "execute_result"
    }
   ],
   "source": [
    "path='/media/brats/MyPassport/Avinash/Kaminstas_2018/MICCAI_BraTS_2018_Data_Training/hdf5_data/valid_set'\n",
    "files = os.listdir(path)\n",
    "brain=[]\n",
    "nec=[]\n",
    "edema=[]\n",
    "et=[]\n",
    "weights=np.zeros(4)\n",
    "for f in tqdm(files):\n",
    "    data = h5py.File(path+'/'+f)\n",
    "    label= data['label'][:]\n",
    "    label = np.uint8(label)\n",
    "    label[label==4]=3\n",
    "    for i in range (4):\n",
    "        weights[i] += np.sum(label==i)\n",
    "w=np.median(weights)/weights\n",
    "w"
   ]
  },
  {
   "cell_type": "code",
   "execution_count": null,
   "metadata": {},
   "outputs": [],
   "source": []
  },
  {
   "cell_type": "code",
   "execution_count": null,
   "metadata": {},
   "outputs": [],
   "source": []
  }
 ],
 "metadata": {
  "kernelspec": {
   "display_name": "Python 3",
   "language": "python",
   "name": "python3"
  },
  "language_info": {
   "codemirror_mode": {
    "name": "ipython",
    "version": 3
   },
   "file_extension": ".py",
   "mimetype": "text/x-python",
   "name": "python",
   "nbconvert_exporter": "python",
   "pygments_lexer": "ipython3",
   "version": "3.6.4"
  }
 },
 "nbformat": 4,
 "nbformat_minor": 2
}
