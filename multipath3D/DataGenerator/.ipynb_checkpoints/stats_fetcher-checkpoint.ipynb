{
 "cells": [
  {
   "cell_type": "code",
   "execution_count": 1,
   "metadata": {},
   "outputs": [
    {
     "name": "stderr",
     "output_type": "stream",
     "text": [
      "/home/brats/anaconda3/lib/python3.6/site-packages/h5py/__init__.py:36: FutureWarning: Conversion of the second argument of issubdtype from `float` to `np.floating` is deprecated. In future, it will be treated as `np.float64 == np.dtype(float).type`.\n",
      "  from ._conv import register_converters as _register_converters\n"
     ]
    }
   ],
   "source": [
    "import numpy as np\n",
    "import os \n",
    "import matplotlib.pyplot as plt\n",
    "import h5py "
   ]
  },
  {
   "cell_type": "code",
   "execution_count": 2,
   "metadata": {},
   "outputs": [],
   "source": [
    "def plotter(flair, t2,t1ce,t1,label, mask):\n",
    "    plt.subplot(1,6,1)\n",
    "    plt.imshow(flair,cmap='gray')\n",
    "    plt.subplot(1,6,2)\n",
    "    plt.imshow(t2,cmap='gray')    \n",
    "    plt.subplot(1,6,3)\n",
    "    plt.imshow(t1ce,cmap='gray')    \n",
    "    plt.subplot(1,6,4)\n",
    "    plt.imshow(t1,cmap='gray')    \n",
    "    plt.subplot(1,6,5)\n",
    "    plt.imshow(label,cmap='gray')\n",
    "    plt.subplot(1,6,6)\n",
    "    plt.imshow(mask,cmap='gray')\n",
    "    plt.show()\n",
    "    \n",
    "def get_stats(flair, t2,t1ce,t1,label, mask):\n",
    "    \n",
    "    flair_mean = np.mean(flair[np.where(mask!=0)])\n",
    "    flair_std = np.std(flair[np.where(mask!=0)]) \n",
    "    \n",
    "    t2_mean = np.mean(t2[np.where(mask!=0)])\n",
    "    t2_std = np.std(t2[np.where(mask!=0)])   \n",
    "    \n",
    "    t1ce_mean = np.mean(t1ce[np.where(mask!=0)])\n",
    "    t1ce_std = np.std(t1ce[np.where(mask!=0)]) \n",
    "    \n",
    "    t1_mean = np.mean(t1[np.where(mask!=0)])\n",
    "    t1_std = np.std(t1[np.where(mask!=0)]) \n",
    "    \n",
    "    mean = [flair_mean, t2_mean,t1ce_mean,t1_mean]\n",
    "    std =  [flair_std, t2_std,t1ce_std,t1_std]  \n",
    "    return mean, std\n",
    "def read_hdf5_and_return_stats(data_path):\n",
    "    data = h5py.File(data_path,'r')\n",
    "    mr_sequences= data['Sequence'][:]\n",
    "    labels      = data ['label'][:]\n",
    "    mask        = data['mask'][:]\n",
    "    flair       = mr_sequences[:,:,0]/255\n",
    "    t2          = mr_sequences[:,:,1]/255\n",
    "    t1ce        = mr_sequences[:,:,2]/255\n",
    "    t1          = mr_sequences[:,:,3]/255\n",
    "    \n",
    "    #plotter (flair, t2,t1ce,t1,labels, mask)\n",
    "    mean, std= get_stats(flair, t2,t1ce,t1,labels, mask)\n",
    "    print ('Mean',mean)\n",
    "    print ('Std', std)\n",
    "    return mean, std\n",
    "    \n",
    "    "
   ]
  },
  {
   "cell_type": "code",
   "execution_count": 3,
   "metadata": {},
   "outputs": [
    {
     "name": "stdout",
     "output_type": "stream",
     "text": [
      "3\n"
     ]
    }
   ],
   "source": [
    "path= '/media/brats/MyPassport/Avinash/Kaminstas_2018/MICCAI_BraTS_2018_Data_Training/hdf5_data_0_255/train_set'\n",
    "files = os.listdir(path)\n",
    "cntr=0\n",
    "mean_list= []\n",
    "std_list = []\n",
    "for f in files:\n",
    "    mean, std = read_hdf5_and_return_stats(path+'/'+f)\n",
    "    cntr+=1\n",
    "    if cntr>2:\n",
    "        break\n",
    "print (cntr)"
   ]
  },
  {
   "cell_type": "code",
   "execution_count": null,
   "metadata": {},
   "outputs": [],
   "source": []
  }
 ],
 "metadata": {
  "kernelspec": {
   "display_name": "Python 3",
   "language": "python",
   "name": "python3"
  },
  "language_info": {
   "codemirror_mode": {
    "name": "ipython",
    "version": 3
   },
   "file_extension": ".py",
   "mimetype": "text/x-python",
   "name": "python",
   "nbconvert_exporter": "python",
   "pygments_lexer": "ipython3",
   "version": "3.6.4"
  }
 },
 "nbformat": 4,
 "nbformat_minor": 2
}
