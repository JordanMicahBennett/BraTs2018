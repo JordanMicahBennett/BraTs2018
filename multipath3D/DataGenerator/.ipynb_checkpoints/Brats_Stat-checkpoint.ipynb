{
 "cells": [
  {
   "cell_type": "code",
   "execution_count": 1,
   "metadata": {},
   "outputs": [
    {
     "name": "stderr",
     "output_type": "stream",
     "text": [
      "/home/brats/anaconda3/lib/python3.6/site-packages/h5py/__init__.py:36: FutureWarning: Conversion of the second argument of issubdtype from `float` to `np.floating` is deprecated. In future, it will be treated as `np.float64 == np.dtype(float).type`.\n",
      "  from ._conv import register_converters as _register_converters\n"
     ]
    }
   ],
   "source": [
    "import os\n",
    "import numpy as np\n",
    "import matplotlib.pyplot as plt\n",
    "import h5py\n",
    "from sklearn.utils import shuffle\n",
    "from tqdm import tqdm_notebook as tqdm\n",
    "import nibabel as nib\n",
    "import pandas as pd"
   ]
  },
  {
   "cell_type": "code",
   "execution_count": 5,
   "metadata": {},
   "outputs": [
    {
     "data": {
      "application/vnd.jupyter.widget-view+json": {
       "model_id": "55217c93d452448984f0e91f8a3db2fb",
       "version_major": 2,
       "version_minor": 0
      },
      "text/html": [
       "<p>Failed to display Jupyter Widget of type <code>HBox</code>.</p>\n",
       "<p>\n",
       "  If you're reading this message in the Jupyter Notebook or JupyterLab Notebook, it may mean\n",
       "  that the widgets JavaScript is still loading. If this message persists, it\n",
       "  likely means that the widgets JavaScript library is either not installed or\n",
       "  not enabled. See the <a href=\"https://ipywidgets.readthedocs.io/en/stable/user_install.html\">Jupyter\n",
       "  Widgets Documentation</a> for setup instructions.\n",
       "</p>\n",
       "<p>\n",
       "  If you're reading this message in another frontend (for example, a static\n",
       "  rendering on GitHub or <a href=\"https://nbviewer.jupyter.org/\">NBViewer</a>),\n",
       "  it may mean that your frontend doesn't currently support widgets.\n",
       "</p>\n"
      ],
      "text/plain": [
       "HBox(children=(IntProgress(value=0, max=17024), HTML(value='')))"
      ]
     },
     "metadata": {},
     "output_type": "display_data"
    },
    {
     "name": "stdout",
     "output_type": "stream",
     "text": [
      "\n"
     ]
    }
   ],
   "source": [
    "H5_PATH_TRAIN     = '/media/brats/My Passport/brats18_data/MICCAI_BraTS_2018_Data_Training/hdf5_data/train_set'\n",
    "H5_PATH_VALID     = '/media/brats/My Passport/brats18_data/MICCAI_BraTS_2018_Data_Training/hdf5_data/valid_set'\n",
    "\n",
    "IDS = next(os.walk(H5_PATH_TRAIN))[2]\n",
    "nclass = 4 # 0, 1, 2, 4\n",
    "\n",
    "weights  = np.zeros(nclass)\n",
    "\n",
    "for id_ in tqdm(IDS):\n",
    "    path = os.path.join(H5_PATH_TRAIN, id_)\n",
    "    h5   = h5py.File(path, 'r')\n",
    "    gt   = np.uint8(h5['label'][:])\n",
    "    gt[gt == 4] = 3\n",
    "    for i in [0, 1, 2, 3]:\n",
    "        weights[i] += np.sum(gt==i)"
   ]
  },
  {
   "cell_type": "code",
   "execution_count": 6,
   "metadata": {},
   "outputs": [
    {
     "name": "stdout",
     "output_type": "stream",
     "text": [
      "[9.60317291e+08 3.22318900e+06 1.22788040e+07 4.76311600e+06]\n",
      "[0.00887307 2.64364268 0.69395684 1.78894656]\n"
     ]
    }
   ],
   "source": [
    "print (weights)\n",
    "print (np.median(weights)/weights)"
   ]
  },
  {
   "cell_type": "markdown",
   "metadata": {},
   "source": [
    "## Brain Slice Stat\n",
    "weights = [9.60317291e+08 3.22318900e+06 1.22788040e+07 4.76311600e+06] \n",
    "\n",
    "\n",
    "np.median(weights)/weights = [0.00887307 2.64364268 0.69395684 1.78894656]"
   ]
  },
  {
   "cell_type": "code",
   "execution_count": 10,
   "metadata": {},
   "outputs": [
    {
     "data": {
      "application/vnd.jupyter.widget-view+json": {
       "model_id": "eadc8a91146749c98c97f543f51b9dd8",
       "version_major": 2,
       "version_minor": 0
      },
      "text/html": [
       "<p>Failed to display Jupyter Widget of type <code>HBox</code>.</p>\n",
       "<p>\n",
       "  If you're reading this message in the Jupyter Notebook or JupyterLab Notebook, it may mean\n",
       "  that the widgets JavaScript is still loading. If this message persists, it\n",
       "  likely means that the widgets JavaScript library is either not installed or\n",
       "  not enabled. See the <a href=\"https://ipywidgets.readthedocs.io/en/stable/user_install.html\">Jupyter\n",
       "  Widgets Documentation</a> for setup instructions.\n",
       "</p>\n",
       "<p>\n",
       "  If you're reading this message in another frontend (for example, a static\n",
       "  rendering on GitHub or <a href=\"https://nbviewer.jupyter.org/\">NBViewer</a>),\n",
       "  it may mean that your frontend doesn't currently support widgets.\n",
       "</p>\n"
      ],
      "text/plain": [
       "HBox(children=(IntProgress(value=0, max=191), HTML(value='')))"
      ]
     },
     "metadata": {},
     "output_type": "display_data"
    },
    {
     "name": "stdout",
     "output_type": "stream",
     "text": [
      "\n"
     ]
    },
    {
     "data": {
      "application/vnd.jupyter.widget-view+json": {
       "model_id": "8d0f5309b4f347c7bdfffb119011d3c3",
       "version_major": 2,
       "version_minor": 0
      },
      "text/html": [
       "<p>Failed to display Jupyter Widget of type <code>HBox</code>.</p>\n",
       "<p>\n",
       "  If you're reading this message in the Jupyter Notebook or JupyterLab Notebook, it may mean\n",
       "  that the widgets JavaScript is still loading. If this message persists, it\n",
       "  likely means that the widgets JavaScript library is either not installed or\n",
       "  not enabled. See the <a href=\"https://ipywidgets.readthedocs.io/en/stable/user_install.html\">Jupyter\n",
       "  Widgets Documentation</a> for setup instructions.\n",
       "</p>\n",
       "<p>\n",
       "  If you're reading this message in another frontend (for example, a static\n",
       "  rendering on GitHub or <a href=\"https://nbviewer.jupyter.org/\">NBViewer</a>),\n",
       "  it may mean that your frontend doesn't currently support widgets.\n",
       "</p>\n"
      ],
      "text/plain": [
       "HBox(children=(IntProgress(value=0, max=71), HTML(value='')))"
      ]
     },
     "metadata": {},
     "output_type": "display_data"
    },
    {
     "name": "stdout",
     "output_type": "stream",
     "text": [
      "\n"
     ]
    }
   ],
   "source": [
    "H5_PATH_TRAIN     = '/media/brats/Kori/Kaminstas_2018/MICCAI_BraTS_2018_Data_Training/'\n",
    "type_ = ['HGG_patches', 'LGG_patches']\n",
    "type_ = ['HGG_patches']\n",
    "nclass = 5 # 0, 1, 2, 4, 5\n",
    "weights  = np.zeros(nclass)\n",
    "\n",
    "for ty in type_:\n",
    "    ty_path = os.path.join(H5_PATH_TRAIN, ty)\n",
    "    IDS = next(os.walk(ty_path))[1]\n",
    "    for id_ in tqdm(IDS):\n",
    "        path = os.path.join(ty_path, id_)\n",
    "        patch_IDS = next(os.walk(path))[1]\n",
    "        for patch in patch_IDS:\n",
    "            gt = np.uint8(nib.load(os.path.join(path, patch, 'seg_9cube.nii.gz')).get_data())\n",
    "            gt[gt == 4] = 3\n",
    "            gt[gt == 5] = 4\n",
    "            for i in [0, 1, 2, 3, 4]:\n",
    "                weights[i] += np.sum(gt==i)"
   ]
  },
  {
   "cell_type": "code",
   "execution_count": 11,
   "metadata": {},
   "outputs": [
    {
     "name": "stdout",
     "output_type": "stream",
     "text": [
      "[ 629122. 7922393. 5211280. 3682896. 8929529.]\n",
      "[8.28341721 0.65779115 1.         1.41499516 0.58360077]\n"
     ]
    }
   ],
   "source": [
    "print (weights)\n",
    "print (np.median(weights)/weights)"
   ]
  },
  {
   "cell_type": "markdown",
   "metadata": {},
   "source": [
    "## Brain Vol Stat (9x9x9)\n",
    "weights = [ 629122. 7922393. 5211280. 3682896. 8929529.]\n",
    "\n",
    "\n",
    "np.median(weights)/weights = [8.28341721 0.65779115 1.         1.41499516 0.58360077]"
   ]
  },
  {
   "cell_type": "code",
   "execution_count": null,
   "metadata": {},
   "outputs": [],
   "source": []
  }
 ],
 "metadata": {
  "kernelspec": {
   "display_name": "Python 3",
   "language": "python",
   "name": "python3"
  },
  "language_info": {
   "codemirror_mode": {
    "name": "ipython",
    "version": 3
   },
   "file_extension": ".py",
   "mimetype": "text/x-python",
   "name": "python",
   "nbconvert_exporter": "python",
   "pygments_lexer": "ipython3",
   "version": "3.6.4"
  }
 },
 "nbformat": 4,
 "nbformat_minor": 2
}
