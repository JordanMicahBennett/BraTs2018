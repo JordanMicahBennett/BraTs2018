{
 "cells": [
  {
   "cell_type": "code",
   "execution_count": 1,
   "metadata": {},
   "outputs": [
    {
     "name": "stderr",
     "output_type": "stream",
     "text": [
      "/home/brats/anaconda3/lib/python3.6/site-packages/h5py/__init__.py:36: FutureWarning: Conversion of the second argument of issubdtype from `float` to `np.floating` is deprecated. In future, it will be treated as `np.float64 == np.dtype(float).type`.\n",
      "  from ._conv import register_converters as _register_converters\n"
     ]
    }
   ],
   "source": [
    "import numpy as np\n",
    "import os \n",
    "import matplotlib.pyplot as plt\n",
    "import h5py \n",
    "from tqdm import tqdm"
   ]
  },
  {
   "cell_type": "code",
   "execution_count": 2,
   "metadata": {},
   "outputs": [],
   "source": [
    "def plotter(flair, t2,t1ce,t1,label, mask):\n",
    "    plt.subplot(1,6,1)\n",
    "    plt.imshow(flair,cmap='gray')\n",
    "    plt.subplot(1,6,2)\n",
    "    plt.imshow(t2,cmap='gray')    \n",
    "    plt.subplot(1,6,3)\n",
    "    plt.imshow(t1ce,cmap='gray')    \n",
    "    plt.subplot(1,6,4)\n",
    "    plt.imshow(t1,cmap='gray')    \n",
    "    plt.subplot(1,6,5)\n",
    "    plt.imshow(label,cmap='gray')\n",
    "    plt.subplot(1,6,6)\n",
    "    plt.imshow(mask,cmap='gray')\n",
    "    plt.show()\n",
    "    \n",
    "def get_stats(flair, t2,t1ce,t1,label, mask):\n",
    "    \n",
    "    flair_mean = np.nanmean(flair[np.where(mask!=0)])\n",
    "    flair_std = np.nanstd(flair[np.where(mask!=0)]) \n",
    "    \n",
    "    t2_mean = np.nanmean(t2[np.where(mask!=0)])\n",
    "    t2_std = np.nanstd(t2[np.where(mask!=0)])   \n",
    "    \n",
    "    t1ce_mean = np.nanmean(t1ce[np.where(mask!=0)])\n",
    "    t1ce_std = np.nanstd(t1ce[np.where(mask!=0)]) \n",
    "    \n",
    "    t1_mean = np.nanmean(t1[np.where(mask!=0)])\n",
    "    t1_std = np.nanstd(t1[np.where(mask!=0)]) \n",
    "    \n",
    "    mean = [flair_mean, t2_mean,t1ce_mean,t1_mean]\n",
    "    std =  [flair_std, t2_std,t1ce_std,t1_std]  \n",
    "    return mean, std\n",
    "def read_hdf5_and_return_stats(data_path):\n",
    "    data = h5py.File(data_path,'r')\n",
    "    mr_sequences= data['Sequence'][:]\n",
    "    labels      = data ['label'][:]\n",
    "    mask        = data['mask'][:]\n",
    "    flair       = mr_sequences[:,:,0]/255\n",
    "    t2          = mr_sequences[:,:,1]/255\n",
    "    t1ce        = mr_sequences[:,:,2]/255\n",
    "    t1          = mr_sequences[:,:,3]/255\n",
    "    \n",
    "    #plotter (flair, t2,t1ce,t1,labels, mask)\n",
    "    mean, std= get_stats(flair, t2,t1ce,t1,labels, mask)\n",
    "#     print ('Mean',mean)\n",
    "#     print ('Std', std)\n",
    "    return mean, std\n",
    "    \n",
    "    "
   ]
  },
  {
   "cell_type": "code",
   "execution_count": 3,
   "metadata": {
    "scrolled": true
   },
   "outputs": [
    {
     "name": "stderr",
     "output_type": "stream",
     "text": [
      "  0%|          | 17/22225 [00:01<39:37,  9.34it/s] /home/brats/anaconda3/lib/python3.6/site-packages/ipykernel_launcher.py:18: RuntimeWarning: Mean of empty slice\n",
      "/home/brats/anaconda3/lib/python3.6/site-packages/numpy/lib/nanfunctions.py:1434: RuntimeWarning: Degrees of freedom <= 0 for slice.\n",
      "  keepdims=keepdims)\n",
      "/home/brats/anaconda3/lib/python3.6/site-packages/ipykernel_launcher.py:21: RuntimeWarning: Mean of empty slice\n",
      "/home/brats/anaconda3/lib/python3.6/site-packages/ipykernel_launcher.py:24: RuntimeWarning: Mean of empty slice\n",
      "/home/brats/anaconda3/lib/python3.6/site-packages/ipykernel_launcher.py:27: RuntimeWarning: Mean of empty slice\n",
      "100%|██████████| 22225/22225 [28:37<00:00, 12.94it/s]"
     ]
    },
    {
     "name": "stdout",
     "output_type": "stream",
     "text": [
      "22225\n"
     ]
    },
    {
     "name": "stderr",
     "output_type": "stream",
     "text": [
      "\n"
     ]
    }
   ],
   "source": [
    "path= '/media/brats/MyPassport/Avinash/Kaminstas_2018/MICCAI_BraTS_2018_Data_Training/hdf5_data_0_255/train_set'\n",
    "files = os.listdir(path)\n",
    "cntr=0\n",
    "mean_list= []\n",
    "std_list = []\n",
    "for f in tqdm(files):\n",
    "    mean, std = read_hdf5_and_return_stats(path+'/'+f)\n",
    "    mean_list.append(mean)\n",
    "    std_list.append(std)\n",
    "    cntr+=1\n",
    "#     if cntr>2:\n",
    "#         break\n",
    "print (cntr)"
   ]
  },
  {
   "cell_type": "code",
   "execution_count": 4,
   "metadata": {},
   "outputs": [],
   "source": [
    "mean_array = np.array(mean_list)\n",
    "std_array  =np.array(std_list)\n",
    "\n"
   ]
  },
  {
   "cell_type": "code",
   "execution_count": 12,
   "metadata": {},
   "outputs": [
    {
     "name": "stdout",
     "output_type": "stream",
     "text": [
      "[0.4465654  0.39885548 0.382155   0.6104794 ]\n",
      "[0.1427262  0.14297858 0.09494335 0.13883562]\n"
     ]
    }
   ],
   "source": [
    "print (np.nanmean( mean_array,0))\n",
    "print (np.nanmean(std_array,0))"
   ]
  },
  {
   "cell_type": "code",
   "execution_count": null,
   "metadata": {},
   "outputs": [],
   "source": [
    "np.savetxt('')"
   ]
  },
  {
   "cell_type": "code",
   "execution_count": 9,
   "metadata": {},
   "outputs": [
    {
     "name": "stderr",
     "output_type": "stream",
     "text": [
      "  1%|          | 59/4732 [00:04<05:26, 14.32it/s]/home/brats/anaconda3/lib/python3.6/site-packages/ipykernel_launcher.py:18: RuntimeWarning: Mean of empty slice\n",
      "/home/brats/anaconda3/lib/python3.6/site-packages/numpy/lib/nanfunctions.py:1434: RuntimeWarning: Degrees of freedom <= 0 for slice.\n",
      "  keepdims=keepdims)\n",
      "/home/brats/anaconda3/lib/python3.6/site-packages/ipykernel_launcher.py:21: RuntimeWarning: Mean of empty slice\n",
      "/home/brats/anaconda3/lib/python3.6/site-packages/ipykernel_launcher.py:24: RuntimeWarning: Mean of empty slice\n",
      "/home/brats/anaconda3/lib/python3.6/site-packages/ipykernel_launcher.py:27: RuntimeWarning: Mean of empty slice\n",
      "100%|██████████| 4732/4732 [04:52<00:00, 16.19it/s]"
     ]
    },
    {
     "name": "stdout",
     "output_type": "stream",
     "text": [
      "4732\n"
     ]
    },
    {
     "name": "stderr",
     "output_type": "stream",
     "text": [
      "\n"
     ]
    }
   ],
   "source": [
    "path= '/media/brats/MyPassport/Avinash/Kaminstas_2018/MICCAI_BraTS_2018_Data_Training/hdf5_data_0_255/valid_set'\n",
    "files = os.listdir(path)\n",
    "cntr=0\n",
    "vmean_list= []\n",
    "vstd_list = []\n",
    "for f in tqdm(files):\n",
    "    mean, std = read_hdf5_and_return_stats(path+'/'+f)\n",
    "    vmean_list.append(mean)\n",
    "    vstd_list.append(std)\n",
    "    cntr+=1\n",
    "#     if cntr>2:\n",
    "#         break\n",
    "print (cntr)"
   ]
  },
  {
   "cell_type": "code",
   "execution_count": 10,
   "metadata": {},
   "outputs": [
    {
     "data": {
      "text/plain": [
       "array([0.46063721, 0.37187726, 0.37342142, 0.62035292])"
      ]
     },
     "execution_count": 10,
     "metadata": {},
     "output_type": "execute_result"
    }
   ],
   "source": [
    "np.nanmean(np.array(vmean_list),0)\n"
   ]
  },
  {
   "cell_type": "code",
   "execution_count": 11,
   "metadata": {},
   "outputs": [
    {
     "data": {
      "text/plain": [
       "array([0.13994554, 0.13648251, 0.09299794, 0.14201602])"
      ]
     },
     "execution_count": 11,
     "metadata": {},
     "output_type": "execute_result"
    }
   ],
   "source": [
    "np.nanmean(np.array(vstd_list),0)"
   ]
  },
  {
   "cell_type": "code",
   "execution_count": null,
   "metadata": {},
   "outputs": [],
   "source": []
  }
 ],
 "metadata": {
  "kernelspec": {
   "display_name": "Python 3",
   "language": "python",
   "name": "python3"
  },
  "language_info": {
   "codemirror_mode": {
    "name": "ipython",
    "version": 3
   },
   "file_extension": ".py",
   "mimetype": "text/x-python",
   "name": "python",
   "nbconvert_exporter": "python",
   "pygments_lexer": "ipython3",
   "version": "3.6.4"
  }
 },
 "nbformat": 4,
 "nbformat_minor": 2
}
