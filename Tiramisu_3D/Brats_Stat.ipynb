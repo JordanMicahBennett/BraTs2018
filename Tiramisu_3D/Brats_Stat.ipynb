{
 "cells": [
  {
   "cell_type": "code",
   "execution_count": 2,
   "metadata": {},
   "outputs": [
    {
     "name": "stderr",
     "output_type": "stream",
     "text": [
      "/home/uavws/anaconda3/lib/python3.6/site-packages/h5py/__init__.py:36: FutureWarning: Conversion of the second argument of issubdtype from `float` to `np.floating` is deprecated. In future, it will be treated as `np.float64 == np.dtype(float).type`.\n",
      "  from ._conv import register_converters as _register_converters\n"
     ]
    }
   ],
   "source": [
    "import os\n",
    "import numpy as np\n",
    "import matplotlib.pyplot as plt\n",
    "import h5py\n",
    "# from sklearn.utils import shuffle\n",
    "from tqdm import tqdm_notebook as tqdm\n",
    "import nibabel as nib\n",
    "import pandas as pd"
   ]
  },
  {
   "cell_type": "code",
   "execution_count": 2,
   "metadata": {},
   "outputs": [],
   "source": [
    "H5_PATH_TRAIN     = '/media/brats/0d4a2225-d6b1-4b80-94fd-7c8ae0b1fa102/varghese/brats_2018/data/hdf5_data_zscores/train_set'\n",
    "H5_PATH_VALID     = '/media/brats/0d4a2225-d6b1-4b80-94fd-7c8ae0b1fa102/varghese/brats_2018/data/hdf5_data_zscores/valid_set'"
   ]
  },
  {
   "cell_type": "code",
   "execution_count": null,
   "metadata": {},
   "outputs": [],
   "source": [
    "IDS = next(os.walk(H5_PATH_TRAIN))[2]\n",
    "nclass = 5 # 0, 1, 2, 4, 5\n",
    "\n",
    "weights  = np.zeros(nclass)\n",
    "\n",
    "for id_ in tqdm(IDS):\n",
    "    path = os.path.join(H5_PATH_TRAIN, id_)\n",
    "    h5   = h5py.File(path, 'r')\n",
    "    gt   = np.uint8(h5['label'][:])\n",
    "    gt[gt == 4] = 3\n",
    "    gt[gt == 5] = 4\n",
    "    for i in range(nclass):\n",
    "        weights[i] += np.sum(gt==i)"
   ]
  },
  {
   "cell_type": "code",
   "execution_count": null,
   "metadata": {},
   "outputs": [],
   "source": [
    "print (weights)\n",
    "print (np.median(weights)/weights)"
   ]
  },
  {
   "cell_type": "markdown",
   "metadata": {},
   "source": [
    "## Brain Slice Stat\n",
    "weights = [1.25493753e+09 5.67836900e+06 1.14197870e+07 3.67903400e+06\n",
    " 2.61974879e+08]\n",
    "\n",
    "\n",
    "np.median(weights)/weights = [0.00909988 2.01110336 1.         3.10401779 0.04359115]"
   ]
  },
  {
   "cell_type": "code",
   "execution_count": 3,
   "metadata": {},
   "outputs": [
    {
     "data": {
      "application/vnd.jupyter.widget-view+json": {
       "model_id": "fed4ad42025e4eae96c9aa67a50a4059",
       "version_major": 2,
       "version_minor": 0
      },
      "text/html": [
       "<p>Failed to display Jupyter Widget of type <code>HBox</code>.</p>\n",
       "<p>\n",
       "  If you're reading this message in the Jupyter Notebook or JupyterLab Notebook, it may mean\n",
       "  that the widgets JavaScript is still loading. If this message persists, it\n",
       "  likely means that the widgets JavaScript library is either not installed or\n",
       "  not enabled. See the <a href=\"https://ipywidgets.readthedocs.io/en/stable/user_install.html\">Jupyter\n",
       "  Widgets Documentation</a> for setup instructions.\n",
       "</p>\n",
       "<p>\n",
       "  If you're reading this message in another frontend (for example, a static\n",
       "  rendering on GitHub or <a href=\"https://nbviewer.jupyter.org/\">NBViewer</a>),\n",
       "  it may mean that your frontend doesn't currently support widgets.\n",
       "</p>\n"
      ],
      "text/plain": [
       "HBox(children=(IntProgress(value=0, max=13183), HTML(value='')))"
      ]
     },
     "metadata": {},
     "output_type": "display_data"
    },
    {
     "name": "stdout",
     "output_type": "stream",
     "text": [
      "\n",
      "[7.49983397e+08 9.35740300e+06]\n",
      "[ 0.50623841 40.57433457]\n"
     ]
    }
   ],
   "source": [
    "IDS = next(os.walk(H5_PATH_TRAIN))[2]\n",
    "nclass = 2 # 0, 1, 2, 4, 5\n",
    "\n",
    "weights  = np.zeros(nclass)\n",
    "\n",
    "for id_ in tqdm(IDS):\n",
    "    path = os.path.join(H5_PATH_TRAIN, id_)\n",
    "    h5   = h5py.File(path, 'r')\n",
    "    gt   = np.uint8(h5['label'][:])\n",
    "#     gt[gt == 4] = 3\n",
    "    gt[gt == 2] = 0\n",
    "    gt[gt == 5] = 0\n",
    "    gt[gt != 0 ] = 1\n",
    "    for i in range(nclass):\n",
    "        weights[i] += np.sum(gt==i)\n",
    "        \n",
    "print (weights)\n",
    "print (np.median(weights)/weights)"
   ]
  },
  {
   "cell_type": "markdown",
   "metadata": {},
   "source": [
    "## Brain Slice Stat\n",
    "weights = [2.70604082e+08 7.52659000e+05 2.50778600e+06 6.26112000e+05\n",
    " 5.69973610e+07]\n",
    "\n",
    "\n",
    "np.median(weights)/weights = [0.00926736 3.33190196 1.         4.00533131 0.04399828]"
   ]
  },
  {
   "cell_type": "code",
   "execution_count": 4,
   "metadata": {},
   "outputs": [
    {
     "data": {
      "application/vnd.jupyter.widget-view+json": {
       "model_id": "57abc7df7ca94b2cb685761c7eb65071",
       "version_major": 2,
       "version_minor": 0
      },
      "text/html": [
       "<p>Failed to display Jupyter Widget of type <code>HBox</code>.</p>\n",
       "<p>\n",
       "  If you're reading this message in the Jupyter Notebook or JupyterLab Notebook, it may mean\n",
       "  that the widgets JavaScript is still loading. If this message persists, it\n",
       "  likely means that the widgets JavaScript library is either not installed or\n",
       "  not enabled. See the <a href=\"https://ipywidgets.readthedocs.io/en/stable/user_install.html\">Jupyter\n",
       "  Widgets Documentation</a> for setup instructions.\n",
       "</p>\n",
       "<p>\n",
       "  If you're reading this message in another frontend (for example, a static\n",
       "  rendering on GitHub or <a href=\"https://nbviewer.jupyter.org/\">NBViewer</a>),\n",
       "  it may mean that your frontend doesn't currently support widgets.\n",
       "</p>\n"
      ],
      "text/plain": [
       "HBox(children=(IntProgress(value=0, max=204), HTML(value='')))"
      ]
     },
     "metadata": {},
     "output_type": "display_data"
    },
    {
     "name": "stderr",
     "output_type": "stream",
     "text": [
      "/home/uavws/anaconda3/lib/python3.6/site-packages/tqdm/_monitor.py:89: TqdmSynchronisationWarning: Set changed size during iteration (see https://github.com/tqdm/tqdm/issues/481)\n",
      "  TqdmSynchronisationWarning)\n"
     ]
    }
   ],
   "source": [
    "H5_PATH_TRAIN     = '/home/uavws/pranjal/MICCAI_BraTS_2018_Data_Training/'\n",
    "# type_ = ['HGG_64_cubes', 'LGG_64_cubes']\n",
    "type_ = ['HGG_64_cubes']\n",
    "# type_ = ['HGG_patches']\n",
    "nclass = 5 # 0, 1, 2, 4, 5\n",
    "weights  = np.zeros(nclass)\n",
    "\n",
    "for ty in type_:\n",
    "    ty_path = os.path.join(H5_PATH_TRAIN, ty)\n",
    "    IDS = next(os.walk(ty_path))[1]\n",
    "    for id_ in tqdm(IDS):\n",
    "        path = os.path.join(ty_path, id_)\n",
    "        patch_IDS = next(os.walk(path))[1]\n",
    "        for patch in patch_IDS:\n",
    "            gt = np.uint8(nib.load(os.path.join(path, patch, 'seg_64cube.nii.gz')).get_data())\n",
    "            gt[gt == 4] = 3\n",
    "            gt[gt == 5] = 4\n",
    "            for i in [0, 1, 2, 3, 4]:\n",
    "                weights[i] += np.sum(gt==i)"
   ]
  },
  {
   "cell_type": "code",
   "execution_count": 5,
   "metadata": {},
   "outputs": [
    {
     "name": "stdout",
     "output_type": "stream",
     "text": [
      "[3.95811782e+09 1.02368486e+09 1.51986758e+09 9.38536437e+08\n",
      " 7.26397455e+09]\n",
      "1519867581.0\n",
      "[0.38398745 1.48470261 1.         1.61940178 0.2092336 ]\n"
     ]
    },
    {
     "name": "stderr",
     "output_type": "stream",
     "text": [
      "/home/uavws/anaconda3/lib/python3.6/site-packages/tqdm/_monitor.py:89: TqdmSynchronisationWarning: Set changed size during iteration (see https://github.com/tqdm/tqdm/issues/481)\n",
      "  TqdmSynchronisationWarning)\n"
     ]
    }
   ],
   "source": [
    "print (weights)\n",
    "print (np.median(weights))\n",
    "print (np.median(weights)/weights)"
   ]
  },
  {
   "cell_type": "markdown",
   "metadata": {},
   "source": [
    "## Brain Vol Stat (9x9x9)\n",
    "weights = [ 629122. 7922393. 5211280. 3682896. 8929529.]\n",
    "\n",
    "\n",
    "np.median(weights)/weights = [8.28341721 0.65779115 1.         1.41499516 0.58360077]"
   ]
  },
  {
   "cell_type": "code",
   "execution_count": 3,
   "metadata": {},
   "outputs": [
    {
     "data": {
      "application/vnd.jupyter.widget-view+json": {
       "model_id": "821295fa9d8b40819d22fbdef1a59142",
       "version_major": 2,
       "version_minor": 0
      },
      "text/html": [
       "<p>Failed to display Jupyter Widget of type <code>HBox</code>.</p>\n",
       "<p>\n",
       "  If you're reading this message in the Jupyter Notebook or JupyterLab Notebook, it may mean\n",
       "  that the widgets JavaScript is still loading. If this message persists, it\n",
       "  likely means that the widgets JavaScript library is either not installed or\n",
       "  not enabled. See the <a href=\"https://ipywidgets.readthedocs.io/en/stable/user_install.html\">Jupyter\n",
       "  Widgets Documentation</a> for setup instructions.\n",
       "</p>\n",
       "<p>\n",
       "  If you're reading this message in another frontend (for example, a static\n",
       "  rendering on GitHub or <a href=\"https://nbviewer.jupyter.org/\">NBViewer</a>),\n",
       "  it may mean that your frontend doesn't currently support widgets.\n",
       "</p>\n"
      ],
      "text/plain": [
       "HBox(children=(IntProgress(value=0, max=11914), HTML(value='')))"
      ]
     },
     "metadata": {},
     "output_type": "display_data"
    },
    {
     "name": "stdout",
     "output_type": "stream",
     "text": [
      "\n",
      "[6.65889535e+08 1.13994530e+07 8.95741200e+06]\n",
      "[0.01711914 1.         1.27262796]\n"
     ]
    },
    {
     "data": {
      "application/vnd.jupyter.widget-view+json": {
       "model_id": "b14ca097667b475da31aae9de9330ad4",
       "version_major": 2,
       "version_minor": 0
      },
      "text/html": [
       "<p>Failed to display Jupyter Widget of type <code>HBox</code>.</p>\n",
       "<p>\n",
       "  If you're reading this message in the Jupyter Notebook or JupyterLab Notebook, it may mean\n",
       "  that the widgets JavaScript is still loading. If this message persists, it\n",
       "  likely means that the widgets JavaScript library is either not installed or\n",
       "  not enabled. See the <a href=\"https://ipywidgets.readthedocs.io/en/stable/user_install.html\">Jupyter\n",
       "  Widgets Documentation</a> for setup instructions.\n",
       "</p>\n",
       "<p>\n",
       "  If you're reading this message in another frontend (for example, a static\n",
       "  rendering on GitHub or <a href=\"https://nbviewer.jupyter.org/\">NBViewer</a>),\n",
       "  it may mean that your frontend doesn't currently support widgets.\n",
       "</p>\n"
      ],
      "text/plain": [
       "HBox(children=(IntProgress(value=0, max=2552), HTML(value='')))"
      ]
     },
     "metadata": {},
     "output_type": "display_data"
    },
    {
     "name": "stdout",
     "output_type": "stream",
     "text": [
      "\n",
      "[1.4312498e+08 2.5039570e+06 1.3662630e+06]\n",
      "[0.0174949  1.         1.83270498]\n"
     ]
    }
   ],
   "source": [
    "H5_PATH_TRAIN='/media/brats/0d4a2225-d6b1-4b80-94fd-7c8ae0b1fa102/varghese/brats_2018/data/hdf5_TC_data_zscore/train_set'\n",
    "IDS = next(os.walk(H5_PATH_TRAIN))[2]\n",
    "nclass = 3 # 0, 1, 2, 4, 5\n",
    "\n",
    "weights  = np.zeros(nclass)\n",
    "\n",
    "for id_ in tqdm(IDS):\n",
    "    path = os.path.join(H5_PATH_TRAIN, id_)\n",
    "    h5   = h5py.File(path, 'r')\n",
    "    gt   = np.uint8(h5['label'][:])\n",
    "    \n",
    "#     gt[gt == 4] = 3\n",
    "#     gt[gt == 2] = 0\n",
    "#     gt[gt == 5] = 0\n",
    "#     gt[gt != 0 ] = 1\n",
    "    for i in range(nclass):\n",
    "        weights[i] += np.sum(gt==i)\n",
    "        \n",
    "print (weights)\n",
    "print (np.median(weights)/weights)\n",
    "\n",
    "H5_PATH_TRAIN='/media/brats/0d4a2225-d6b1-4b80-94fd-7c8ae0b1fa102/varghese/brats_2018/data/hdf5_TC_data_zscore/valid_set'\n",
    "IDS = next(os.walk(H5_PATH_TRAIN))[2]\n",
    "nclass = 3 # 0, 1, 2, 4, 5\n",
    "\n",
    "weights  = np.zeros(nclass)\n",
    "\n",
    "for id_ in tqdm(IDS):\n",
    "    path = os.path.join(H5_PATH_TRAIN, id_)\n",
    "    h5   = h5py.File(path, 'r')\n",
    "    gt   = np.uint8(h5['label'][:])\n",
    "    \n",
    "#     gt[gt == 4] = 3\n",
    "#     gt[gt == 2] = 0\n",
    "#     gt[gt == 5] = 0\n",
    "#     gt[gt != 0 ] = 1\n",
    "    for i in range(nclass):\n",
    "        weights[i] += np.sum(gt==i)\n",
    "        \n",
    "print (weights)\n",
    "print (np.median(weights)/weights)"
   ]
  },
  {
   "cell_type": "code",
   "execution_count": null,
   "metadata": {},
   "outputs": [],
   "source": []
  }
 ],
 "metadata": {
  "kernelspec": {
   "display_name": "Python 3",
   "language": "python",
   "name": "python3"
  },
  "language_info": {
   "codemirror_mode": {
    "name": "ipython",
    "version": 3
   },
   "file_extension": ".py",
   "mimetype": "text/x-python",
   "name": "python",
   "nbconvert_exporter": "python",
   "pygments_lexer": "ipython3",
   "version": "3.6.4"
  }
 },
 "nbformat": 4,
 "nbformat_minor": 2
}
